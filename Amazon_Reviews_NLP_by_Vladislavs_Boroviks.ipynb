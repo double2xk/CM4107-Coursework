{
  "nbformat": 4,
  "nbformat_minor": 0,
  "metadata": {
    "colab": {
      "provenance": [],
      "toc_visible": true
    },
    "kernelspec": {
      "name": "python3",
      "display_name": "Python 3"
    },
    "language_info": {
      "name": "python"
    }
  },
  "cells": [
    {
      "cell_type": "markdown",
      "source": [
        "# **Dataset Loading and Preprocessing**\n",
        "\n",
        "For this comparative evaluation, I have selected the Amazon Reviews English dataset from HuggingFace (SetFit/amazon_reviews_multi_en, https://huggingface.co/datasets/SetFit/amazon_reviews_multi_en). This dataset contains customer reviews from Amazon's online marketplace. Each review entry consists of an order ID, review text, and a rating label ranging from 0 to 4 (representing 1-5 stars).\n",
        "\n",
        "I have chosen to focus on sentiment classification, where the goal is to predict the star rating based on the review text. This task is particularly relevant as businesses increasingly need automated ways to analyse customer feedback. The multi-class nature of the task (predicting 5 different star ratings) provides a good challenge for testing different NLP approaches.\n",
        "\n",
        "The dataset represents real-world customer reviews, which means dealing with varied text lengths, informal language, and potential class imbalances. This makes it ideal for comparing different NLP methods and their ability to handle practical applications. Working with actual customer reviews also helps demonstrate the real-world applicability of the techniques learned in this module."
      ],
      "metadata": {
        "id": "Bt-3ljcg235Q"
      }
    },
    {
      "cell_type": "markdown",
      "source": [
        "**Necessary libraries for data processing and analysis**"
      ],
      "metadata": {
        "id": "9VRnJsL58NoU"
      }
    },
    {
      "cell_type": "code",
      "source": [
        "# import libraries\n",
        "import pandas as pd # data manipulation\n",
        "import numpy as np # numerical operations\n",
        "from matplotlib import pyplot as plt # plotting\n",
        "import seaborn as sns # enhanced visualizations\n",
        "\n",
        "# configure notebook\n",
        "pd.set_option('display.max_colwidth', None)\n",
        "# print(plt.style.available) check available styles\n",
        "plt.style.use('seaborn-v0_8')"
      ],
      "metadata": {
        "id": "nehwdcKK4D2G"
      },
      "execution_count": 70,
      "outputs": []
    },
    {
      "cell_type": "code",
      "source": [
        "# prompt: install datasets\n",
        "\n",
        "!pip install datasets\n"
      ],
      "metadata": {
        "colab": {
          "base_uri": "https://localhost:8080/"
        },
        "id": "VmOVbfv64yc1",
        "outputId": "a163553a-c43e-4862-d02c-7469f490e4f1"
      },
      "execution_count": 71,
      "outputs": [
        {
          "output_type": "stream",
          "name": "stdout",
          "text": [
            "Requirement already satisfied: datasets in /usr/local/lib/python3.10/dist-packages (3.1.0)\n",
            "Requirement already satisfied: filelock in /usr/local/lib/python3.10/dist-packages (from datasets) (3.16.1)\n",
            "Requirement already satisfied: numpy>=1.17 in /usr/local/lib/python3.10/dist-packages (from datasets) (1.26.4)\n",
            "Requirement already satisfied: pyarrow>=15.0.0 in /usr/local/lib/python3.10/dist-packages (from datasets) (17.0.0)\n",
            "Requirement already satisfied: dill<0.3.9,>=0.3.0 in /usr/local/lib/python3.10/dist-packages (from datasets) (0.3.8)\n",
            "Requirement already satisfied: pandas in /usr/local/lib/python3.10/dist-packages (from datasets) (2.2.2)\n",
            "Requirement already satisfied: requests>=2.32.2 in /usr/local/lib/python3.10/dist-packages (from datasets) (2.32.3)\n",
            "Requirement already satisfied: tqdm>=4.66.3 in /usr/local/lib/python3.10/dist-packages (from datasets) (4.66.6)\n",
            "Requirement already satisfied: xxhash in /usr/local/lib/python3.10/dist-packages (from datasets) (3.5.0)\n",
            "Requirement already satisfied: multiprocess<0.70.17 in /usr/local/lib/python3.10/dist-packages (from datasets) (0.70.16)\n",
            "Requirement already satisfied: fsspec<=2024.9.0,>=2023.1.0 in /usr/local/lib/python3.10/dist-packages (from fsspec[http]<=2024.9.0,>=2023.1.0->datasets) (2024.9.0)\n",
            "Requirement already satisfied: aiohttp in /usr/local/lib/python3.10/dist-packages (from datasets) (3.11.2)\n",
            "Requirement already satisfied: huggingface-hub>=0.23.0 in /usr/local/lib/python3.10/dist-packages (from datasets) (0.26.2)\n",
            "Requirement already satisfied: packaging in /usr/local/lib/python3.10/dist-packages (from datasets) (24.2)\n",
            "Requirement already satisfied: pyyaml>=5.1 in /usr/local/lib/python3.10/dist-packages (from datasets) (6.0.2)\n",
            "Requirement already satisfied: aiohappyeyeballs>=2.3.0 in /usr/local/lib/python3.10/dist-packages (from aiohttp->datasets) (2.4.3)\n",
            "Requirement already satisfied: aiosignal>=1.1.2 in /usr/local/lib/python3.10/dist-packages (from aiohttp->datasets) (1.3.1)\n",
            "Requirement already satisfied: attrs>=17.3.0 in /usr/local/lib/python3.10/dist-packages (from aiohttp->datasets) (24.2.0)\n",
            "Requirement already satisfied: frozenlist>=1.1.1 in /usr/local/lib/python3.10/dist-packages (from aiohttp->datasets) (1.5.0)\n",
            "Requirement already satisfied: multidict<7.0,>=4.5 in /usr/local/lib/python3.10/dist-packages (from aiohttp->datasets) (6.1.0)\n",
            "Requirement already satisfied: propcache>=0.2.0 in /usr/local/lib/python3.10/dist-packages (from aiohttp->datasets) (0.2.0)\n",
            "Requirement already satisfied: yarl<2.0,>=1.17.0 in /usr/local/lib/python3.10/dist-packages (from aiohttp->datasets) (1.17.2)\n",
            "Requirement already satisfied: async-timeout<6.0,>=4.0 in /usr/local/lib/python3.10/dist-packages (from aiohttp->datasets) (4.0.3)\n",
            "Requirement already satisfied: typing-extensions>=3.7.4.3 in /usr/local/lib/python3.10/dist-packages (from huggingface-hub>=0.23.0->datasets) (4.12.2)\n",
            "Requirement already satisfied: charset-normalizer<4,>=2 in /usr/local/lib/python3.10/dist-packages (from requests>=2.32.2->datasets) (3.4.0)\n",
            "Requirement already satisfied: idna<4,>=2.5 in /usr/local/lib/python3.10/dist-packages (from requests>=2.32.2->datasets) (3.10)\n",
            "Requirement already satisfied: urllib3<3,>=1.21.1 in /usr/local/lib/python3.10/dist-packages (from requests>=2.32.2->datasets) (2.2.3)\n",
            "Requirement already satisfied: certifi>=2017.4.17 in /usr/local/lib/python3.10/dist-packages (from requests>=2.32.2->datasets) (2024.8.30)\n",
            "Requirement already satisfied: python-dateutil>=2.8.2 in /usr/local/lib/python3.10/dist-packages (from pandas->datasets) (2.8.2)\n",
            "Requirement already satisfied: pytz>=2020.1 in /usr/local/lib/python3.10/dist-packages (from pandas->datasets) (2024.2)\n",
            "Requirement already satisfied: tzdata>=2022.7 in /usr/local/lib/python3.10/dist-packages (from pandas->datasets) (2024.2)\n",
            "Requirement already satisfied: six>=1.5 in /usr/local/lib/python3.10/dist-packages (from python-dateutil>=2.8.2->pandas->datasets) (1.16.0)\n"
          ]
        }
      ]
    },
    {
      "cell_type": "code",
      "source": [
        "from datasets import load_dataset # HuggingFace datasets library for loading the Amazon reviews"
      ],
      "metadata": {
        "id": "25TkXagA4_Bl"
      },
      "execution_count": 72,
      "outputs": []
    },
    {
      "cell_type": "markdown",
      "source": [
        "**Load English Amazon Reviews dataset from HuggingFace**"
      ],
      "metadata": {
        "id": "8sqAZOg55GwG"
      }
    },
    {
      "cell_type": "code",
      "source": [
        "# dataset loading and initial exploration functions\n",
        "def load_and_explore_dataset():\n",
        "    try:\n",
        "        dataset = load_dataset(\"SetFit/amazon_reviews_multi_en\")\n",
        "\n",
        "        # print basic dataset information\n",
        "        print(\"Dataset structure:\")\n",
        "        print(dataset)\n",
        "\n",
        "        # show sample reviews\n",
        "        print(\"\\nExample reviews:\")\n",
        "        for i in range(3):\n",
        "            print(f\"\\nReview {i+1}:\")\n",
        "            print(f\"Text: {dataset['train'][i]['text']}\")\n",
        "            print(f\"Rating: {dataset['train'][i]['label']} \"\n",
        "                  f\"(Label text: {dataset['train'][i]['label_text']})\")\n",
        "\n",
        "        return dataset\n",
        "    except Exception as e:\n",
        "        print(f\"Error loading dataset: {e}\")\n",
        "        return None\n",
        "\n",
        "dataset = load_and_explore_dataset()"
      ],
      "metadata": {
        "colab": {
          "base_uri": "https://localhost:8080/"
        },
        "id": "V_Or6jPR5Qra",
        "outputId": "f61836ea-49d6-40df-f8e1-63237860287b"
      },
      "execution_count": 73,
      "outputs": [
        {
          "output_type": "stream",
          "name": "stdout",
          "text": [
            "Dataset structure:\n",
            "DatasetDict({\n",
            "    train: Dataset({\n",
            "        features: ['id', 'text', 'label', 'label_text'],\n",
            "        num_rows: 200000\n",
            "    })\n",
            "    validation: Dataset({\n",
            "        features: ['id', 'text', 'label', 'label_text'],\n",
            "        num_rows: 5000\n",
            "    })\n",
            "    test: Dataset({\n",
            "        features: ['id', 'text', 'label', 'label_text'],\n",
            "        num_rows: 5000\n",
            "    })\n",
            "})\n",
            "\n",
            "Example reviews:\n",
            "\n",
            "Review 1:\n",
            "Text: Arrived broken. Manufacturer defect. Two of the legs of the base were not completely formed, so there was no way to insert the casters. I unpackaged the entire chair and hardware before noticing this. So, I'll spend twice the amount of time boxing up the whole useless thing and send it back with a 1-star review of part of a chair I never got to sit in. I will go so far as to include a picture of what their injection molding and quality assurance process missed though. I will be hesitant to buy again. It makes me wonder if there aren't missing structures and supports that don't impede the assembly process.\n",
            "Rating: 0 (Label text: 0)\n",
            "\n",
            "Review 2:\n",
            "Text: the cabinet dot were all detached from backing... got me\n",
            "Rating: 0 (Label text: 0)\n",
            "\n",
            "Review 3:\n",
            "Text: I received my first order of this product and it was broke so I ordered it again. The second one was broke in more places than the first. I can't blame the shipping process as it's shrink wrapped and boxed.\n",
            "Rating: 0 (Label text: 0)\n"
          ]
        }
      ]
    },
    {
      "cell_type": "markdown",
      "source": [
        "The following dataset is split in three dictionaries: train, validation and test. Let's see data some data samples."
      ],
      "metadata": {
        "id": "aadZax7w8bu5"
      }
    },
    {
      "cell_type": "markdown",
      "source": [
        "Now let's start by analysing it a little deeper."
      ],
      "metadata": {
        "id": "Io16c6tU8v8n"
      }
    },
    {
      "cell_type": "code",
      "source": [
        "def analyse_dataset_statistics(dataset):\n",
        "    # rating distribution analysis\n",
        "    ratings = [int(label) + 1 for label in dataset['validation']['label']]\n",
        "\n",
        "    plt.figure(figsize=(10, 6))\n",
        "    sns.countplot(x=ratings)\n",
        "    plt.title('Distribution of Star Ratings')\n",
        "    plt.xlabel('Star Rating')\n",
        "    plt.ylabel('Count')\n",
        "    plt.show()\n",
        "\n",
        "    # review length analysis\n",
        "    lengths = [len(review.split()) for review in dataset['train']['text']]\n",
        "\n",
        "    plt.figure(figsize=(10, 6))\n",
        "    sns.histplot(lengths, bins=50)\n",
        "    plt.title('Distribution of Review Lengths')\n",
        "    plt.xlabel('Number of Words')\n",
        "    plt.ylabel('Count')\n",
        "    plt.show()\n",
        "\n",
        "    # print statistical summaries\n",
        "    print(\"\\nReview Length Statistics:\")\n",
        "    print(f\"Average length: {np.mean(lengths):.1f} words\")\n",
        "    print(f\"Median length: {np.median(lengths):.1f} words\")\n",
        "    print(f\"Shortest review: {np.min(lengths)} words\")\n",
        "    print(f\"Longest review: {np.max(lengths)} words\")\n",
        "\n",
        "analyse_dataset_statistics(dataset)"
      ],
      "metadata": {
        "colab": {
          "base_uri": "https://localhost:8080/",
          "height": 1000
        },
        "id": "uZLRLWsS91p-",
        "outputId": "775c28b3-3ea6-4c9f-fb14-ab7fd6e700f1"
      },
      "execution_count": 76,
      "outputs": [
        {
          "output_type": "display_data",
          "data": {
            "text/plain": [
              "<Figure size 1000x600 with 1 Axes>"
            ],
            "image/png": "[encoded data removed]"
          },
          "metadata": {}
        },
        {
          "output_type": "display_data",
          "data": {
            "text/plain": [
              "<Figure size 1000x600 with 1 Axes>"
            ],
            "image/png": "[encoded data removed]"
          },
          "metadata": {}
        },
        {
          "output_type": "stream",
          "name": "stdout",
          "text": [
            "\n",
            "Review Length Statistics:\n",
            "Average length: 34.1 words\n",
            "Median length: 24.0 words\n",
            "Shortest review: 1 words\n",
            "Longest review: 769 words\n"
          ]
        }
      ]
    },
    {
      "cell_type": "markdown",
      "source": [
        "1. Looks like the reviews are all perfectly balanced in this train set.\n",
        "2. By analysing the lengths of reviews we can identify the shortest and longest ones as well as the avarage and mean. It was predictable that the curve will be decreasing, but it is still interesting to find out there are reviews 700+ words long."
      ],
      "metadata": {
        "id": "W2Yst289-YZz"
      }
    },
    {
      "cell_type": "markdown",
      "source": [
        "# Text pre-processing"
      ],
      "metadata": {
        "id": "e7xguf4Y_I0f"
      }
    },
    {
      "cell_type": "markdown",
      "source": [
        "Import necessary libraries"
      ],
      "metadata": {
        "id": "iYkYt9CAVOae"
      }
    },
    {
      "cell_type": "code",
      "source": [
        "from sklearn.base import BaseEstimator, TransformerMixin  # creating custom sklearn transformers\n",
        "from nltk.tokenize import word_tokenize  # splitting text into words\n",
        "from nltk.corpus import stopwords  # removing common words\n",
        "from nltk.stem import SnowballStemmer  # reducing words to their root form\n",
        "import nltk  # Natural Language Toolkit\n",
        "\n",
        "nltk.download('punkt_tab') # required by python notebook to run punkt\n",
        "\n",
        "# NLTK packages\n",
        "nltk.download('punkt')\n",
        "nltk.download('stopwords')"
      ],
      "metadata": {
        "colab": {
          "base_uri": "https://localhost:8080/"
        },
        "id": "Je-v2FnTCUw7",
        "outputId": "23f1e681-99b3-49e3-cfb3-51caffe740ff"
      },
      "execution_count": 77,
      "outputs": [
        {
          "output_type": "stream",
          "name": "stderr",
          "text": [
            "[nltk_data] Downloading package punkt_tab to /root/nltk_data...\n",
            "[nltk_data]   Package punkt_tab is already up-to-date!\n",
            "[nltk_data] Downloading package punkt to /root/nltk_data...\n",
            "[nltk_data]   Package punkt is already up-to-date!\n",
            "[nltk_data] Downloading package stopwords to /root/nltk_data...\n",
            "[nltk_data]   Package stopwords is already up-to-date!\n"
          ]
        },
        {
          "output_type": "execute_result",
          "data": {
            "text/plain": [
              "True"
            ]
          },
          "metadata": {},
          "execution_count": 77
        }
      ]
    },
    {
      "cell_type": "markdown",
      "source": [
        "Custom preprocessor class with sklearn structure"
      ],
      "metadata": {
        "id": "LJLPHEsDWODT"
      }
    },
    {
      "cell_type": "code",
      "source": [
        "class AmazonReviewPreprocessor(BaseEstimator, TransformerMixin):\n",
        "    def __init__(self):\n",
        "        self.stemmer = SnowballStemmer(\"english\")\n",
        "\n",
        "    def fit(self, X, y=None):\n",
        "        # required by sklearn\n",
        "        return self\n",
        "\n",
        "    def transform(self, X, y=None):\n",
        "        processed_reviews = []\n",
        "\n",
        "        for review in X:\n",
        "            # split text into individual words\n",
        "            tokens = word_tokenize(review)\n",
        "\n",
        "            # normalization\n",
        "            # convert to lowercase and remove non alphanumeric tokens\n",
        "            normalized = [token.lower() for token in tokens if token.isalnum()]\n",
        "\n",
        "            # stopword removal\n",
        "            # remove common english words that don't carry much meaning\n",
        "            stopped = [token for token in normalized if token not in stopwords.words('english')]\n",
        "\n",
        "            # stemming\n",
        "            # reduce words to their root form to handle different word forms\n",
        "            stemmed = [self.stemmer.stem(word) for word in stopped]\n",
        "\n",
        "            # join the processed tokens back into a single string\n",
        "            processed_reviews.append(' '.join(stemmed))\n",
        "\n",
        "        return processed_reviews\n"
      ],
      "metadata": {
        "id": "R1D2qwkZVgUY"
      },
      "execution_count": 78,
      "outputs": []
    },
    {
      "cell_type": "markdown",
      "source": [
        "Chain multiple steps together"
      ],
      "metadata": {
        "id": "X61bZPxYXNNb"
      }
    },
    {
      "cell_type": "code",
      "source": [
        "from sklearn.pipeline import Pipeline # import the pipeline functionality\n",
        "from sklearn.feature_extraction.text import CountVectorizer # pre-processing method\n",
        "from sklearn.feature_extraction.text import TfidfTransformer # representation learner\n",
        "\n",
        "preprocessing_pipeline = Pipeline([\n",
        "    ('preprocessor', AmazonReviewPreprocessor()),  # custom preprocessing class\n",
        "    ('vectorizer', CountVectorizer()),  # convert text to token counts\n",
        "    ('tfidf', TfidfTransformer())  # transform counts to TF-IDF representation\n",
        "])"
      ],
      "metadata": {
        "id": "L2MaJJKaXILX"
      },
      "execution_count": 79,
      "outputs": []
    },
    {
      "cell_type": "markdown",
      "source": [
        "Let's see it in action"
      ],
      "metadata": {
        "id": "Sj_y-LWPXyh4"
      }
    },
    {
      "cell_type": "code",
      "source": [
        "def preprocessing_example():\n",
        "    # sample review from the dataset\n",
        "    sample_reviews = dataset['train']['text'][:5]\n",
        "\n",
        "    print(\"Original Review:\")\n",
        "    print(sample_reviews[0])\n",
        "\n",
        "    print(\"\\nAfter Preprocessing (before vectorisation):\")\n",
        "    preprocessed = AmazonReviewPreprocessor().transform([sample_reviews[0]])[0]\n",
        "    print(preprocessed)\n",
        "\n",
        "preprocessing_example()"
      ],
      "metadata": {
        "colab": {
          "base_uri": "https://localhost:8080/"
        },
        "id": "kYrXlax4XQSz",
        "outputId": "3e64f536-27a4-4196-ff8e-ad693b16dc21"
      },
      "execution_count": 80,
      "outputs": [
        {
          "output_type": "stream",
          "name": "stdout",
          "text": [
            "Original Review:\n",
            "Arrived broken. Manufacturer defect. Two of the legs of the base were not completely formed, so there was no way to insert the casters. I unpackaged the entire chair and hardware before noticing this. So, I'll spend twice the amount of time boxing up the whole useless thing and send it back with a 1-star review of part of a chair I never got to sit in. I will go so far as to include a picture of what their injection molding and quality assurance process missed though. I will be hesitant to buy again. It makes me wonder if there aren't missing structures and supports that don't impede the assembly process.\n",
            "\n",
            "After Preprocessing (before vectorisation):\n",
            "arriv broken manufactur defect two leg base complet form way insert caster unpackag entir chair hardwar notic spend twice amount time box whole useless thing send back review part chair never got sit go far includ pictur inject mold qualiti assur process miss though hesit buy make wonder miss structur support imped assembl process\n"
          ]
        }
      ]
    },
    {
      "cell_type": "code",
      "source": [
        "def visualize_preprocessing_impact():\n",
        "    # sample size for visualization\n",
        "    SAMPLE_SIZE = 1000\n",
        "    sample_reviews = dataset['train']['text'][:SAMPLE_SIZE]\n",
        "\n",
        "    # lengths before and after preprocessing\n",
        "    original_lengths = [len(review.split()) for review in sample_reviews]\n",
        "    processed_reviews = AmazonReviewPreprocessor().transform(sample_reviews)\n",
        "    processed_lengths = [len(review.split()) for review in processed_reviews]\n",
        "\n",
        "    # comparison plot\n",
        "    plt.figure(figsize=(12, 6))\n",
        "    plt.hist(original_lengths, alpha=0.5, label='Original', bins=50)\n",
        "    plt.hist(processed_lengths, alpha=0.5, label='Preprocessed', bins=50)\n",
        "    plt.title('Impact of Preprocessing on Review Lengths')\n",
        "    plt.xlabel('Number of Words')\n",
        "    plt.ylabel('Frequency')\n",
        "    plt.legend()\n",
        "    plt.show()\n",
        "\n",
        "visualize_preprocessing_impact()"
      ],
      "metadata": {
        "colab": {
          "base_uri": "https://localhost:8080/",
          "height": 562
        },
        "id": "D9dLkVPyYNFE",
        "outputId": "58ba6d84-638b-402a-fdbe-25c1d229e864"
      },
      "execution_count": 81,
      "outputs": [
        {
          "output_type": "display_data",
          "data": {
            "text/plain": [
              "<Figure size 1200x600 with 1 Axes>"
            ],
            "image/png": "[encoded data removed]"
          },
          "metadata": {}
        }
      ]
    },
    {
      "cell_type": "markdown",
      "source": [
        "# **Representation Learning**\n",
        "\n",
        "In this section, I have implemented and compared two different approaches to represent the Amazon reviews as numerical vectors. I chose to explore the impact of preprocessing on TF-IDF representations, as this allows me to understand how different text processing steps affect our final model's ability to understand review sentiment.\n",
        "\n",
        "Choice of TF-IDF:\n",
        "I selected TF-IDF (Term Frequency-Inverse Document Frequency) as my primary representation method because:\n",
        "1. It's particularly suitable for review analysis as it considers both local term importance (how often a word appears in a review) and global term importance (how unique that word is across all reviews)\n",
        "2. It helps handle the common issue of certain words appearing very frequently but carrying little sentiment information"
      ],
      "metadata": {
        "id": "IBRjRzwNamzn"
      }
    },
    {
      "cell_type": "markdown",
      "source": [
        "# Evaluation of different features sizes in TF-IDF"
      ],
      "metadata": {
        "id": "OazmaylmiKJU"
      }
    },
    {
      "cell_type": "code",
      "source": [
        "from sklearn.model_selection import StratifiedKFold\n",
        "from sklearn.metrics import accuracy_score\n",
        "from sklearn.neighbors import KNeighborsClassifier\n",
        "\n",
        "def evaluate_feature_sizes():\n",
        "    feature_sizes = [300, 1000, 3000, 5000]\n",
        "    results = {}\n",
        "\n",
        "    for n_features in feature_sizes:\n",
        "        # pipeline with current feature size\n",
        "        text_clf = Pipeline([\n",
        "            ('preprocessor', AmazonReviewPreprocessor()), # our custom preprocessor\n",
        "            ('count', CountVectorizer(max_features=n_features)),\n",
        "            ('rep', TfidfTransformer()),\n",
        "            ('mod', KNeighborsClassifier())\n",
        "        ])\n",
        "\n",
        "        # prepare cross-validation\n",
        "        acc_scores = []\n",
        "        kf = StratifiedKFold(n_splits=5)\n",
        "\n",
        "        # data\n",
        "        X = dataset['test']['text']\n",
        "        y = dataset['test']['label']\n",
        "\n",
        "        # cross-validation\n",
        "        for train_idx, test_idx in kf.split(X, y):\n",
        "            # split data\n",
        "            X_train = [X[i] for i in train_idx]\n",
        "            X_test = [X[i] for i in test_idx]\n",
        "            y_train = [y[i] for i in train_idx]\n",
        "            y_test = [y[i] for i in test_idx]\n",
        "\n",
        "            # train and evaluate\n",
        "            text_clf.fit(X_train, y_train)\n",
        "            predictions = text_clf.predict(X_test)\n",
        "            acc = accuracy_score(predictions, y_test)\n",
        "            acc_scores.append(acc)\n",
        "\n",
        "        # store average accuracy\n",
        "        results[n_features] = np.mean(acc_scores)\n",
        "        print(f\"Accuracy with {n_features} features: {results[n_features]:.3f}\")\n",
        "\n",
        "    # plot\n",
        "    plt.figure(figsize=(10, 6))\n",
        "    plt.plot(list(results.keys()), list(results.values()), marker='o')\n",
        "    plt.xlabel('Number of Features')\n",
        "    plt.ylabel('Average Accuracy')\n",
        "    plt.title('Impact of Feature Size on Model Performance')\n",
        "    plt.grid(True)\n",
        "    plt.show()\n",
        "\n",
        "    return results\n",
        "\n",
        "print(\"Evaluating impact of feature size on classification performance:\")\n",
        "feature_size_results = evaluate_feature_sizes()"
      ],
      "metadata": {
        "colab": {
          "base_uri": "https://localhost:8080/",
          "height": 373
        },
        "id": "vAJWNm4ziQTU",
        "outputId": "4d39324c-c7a3-461d-efdc-99927a7e2ce8"
      },
      "execution_count": 82,
      "outputs": [
        {
          "output_type": "stream",
          "name": "stdout",
          "text": [
            "Evaluating impact of feature size on classification performance:\n",
            "Accuracy with 300 features: 0.276\n"
          ]
        },
        {
          "output_type": "error",
          "ename": "KeyboardInterrupt",
          "evalue": "",
          "traceback": [
            "\u001b[0;31m---------------------------------------------------------------------------\u001b[0m",
            "\u001b[0;31mKeyboardInterrupt\u001b[0m                         Traceback (most recent call last)",
            "\u001b[0;32m<ipython-input-82-d6d556f054b0>\u001b[0m in \u001b[0;36m<cell line: 56>\u001b[0;34m()\u001b[0m\n\u001b[1;32m     54\u001b[0m \u001b[0;34m\u001b[0m\u001b[0m\n\u001b[1;32m     55\u001b[0m \u001b[0mprint\u001b[0m\u001b[0;34m(\u001b[0m\u001b[0;34m\"Evaluating impact of feature size on classification performance:\"\u001b[0m\u001b[0;34m)\u001b[0m\u001b[0;34m\u001b[0m\u001b[0;34m\u001b[0m\u001b[0m\n\u001b[0;32m---> 56\u001b[0;31m \u001b[0mfeature_size_results\u001b[0m \u001b[0;34m=\u001b[0m \u001b[0mevaluate_feature_sizes\u001b[0m\u001b[0;34m(\u001b[0m\u001b[0;34m)\u001b[0m\u001b[0;34m\u001b[0m\u001b[0;34m\u001b[0m\u001b[0m\n\u001b[0m",
            "\u001b[0;32m<ipython-input-82-d6d556f054b0>\u001b[0m in \u001b[0;36mevaluate_feature_sizes\u001b[0;34m()\u001b[0m\n\u001b[1;32m     33\u001b[0m \u001b[0;34m\u001b[0m\u001b[0m\n\u001b[1;32m     34\u001b[0m             \u001b[0;31m# train and evaluate\u001b[0m\u001b[0;34m\u001b[0m\u001b[0;34m\u001b[0m\u001b[0m\n\u001b[0;32m---> 35\u001b[0;31m             \u001b[0mtext_clf\u001b[0m\u001b[0;34m.\u001b[0m\u001b[0mfit\u001b[0m\u001b[0;34m(\u001b[0m\u001b[0mX_train\u001b[0m\u001b[0;34m,\u001b[0m \u001b[0my_train\u001b[0m\u001b[0;34m)\u001b[0m\u001b[0;34m\u001b[0m\u001b[0;34m\u001b[0m\u001b[0m\n\u001b[0m\u001b[1;32m     36\u001b[0m             \u001b[0mpredictions\u001b[0m \u001b[0;34m=\u001b[0m \u001b[0mtext_clf\u001b[0m\u001b[0;34m.\u001b[0m\u001b[0mpredict\u001b[0m\u001b[0;34m(\u001b[0m\u001b[0mX_test\u001b[0m\u001b[0;34m)\u001b[0m\u001b[0;34m\u001b[0m\u001b[0;34m\u001b[0m\u001b[0m\n\u001b[1;32m     37\u001b[0m             \u001b[0macc\u001b[0m \u001b[0;34m=\u001b[0m \u001b[0maccuracy_score\u001b[0m\u001b[0;34m(\u001b[0m\u001b[0mpredictions\u001b[0m\u001b[0;34m,\u001b[0m \u001b[0my_test\u001b[0m\u001b[0;34m)\u001b[0m\u001b[0;34m\u001b[0m\u001b[0;34m\u001b[0m\u001b[0m\n",
            "\u001b[0;32m/usr/local/lib/python3.10/dist-packages/sklearn/base.py\u001b[0m in \u001b[0;36mwrapper\u001b[0;34m(estimator, *args, **kwargs)\u001b[0m\n\u001b[1;32m   1471\u001b[0m                 )\n\u001b[1;32m   1472\u001b[0m             ):\n\u001b[0;32m-> 1473\u001b[0;31m                 \u001b[0;32mreturn\u001b[0m \u001b[0mfit_method\u001b[0m\u001b[0;34m(\u001b[0m\u001b[0mestimator\u001b[0m\u001b[0;34m,\u001b[0m \u001b[0;34m*\u001b[0m\u001b[0margs\u001b[0m\u001b[0;34m,\u001b[0m \u001b[0;34m**\u001b[0m\u001b[0mkwargs\u001b[0m\u001b[0;34m)\u001b[0m\u001b[0;34m\u001b[0m\u001b[0;34m\u001b[0m\u001b[0m\n\u001b[0m\u001b[1;32m   1474\u001b[0m \u001b[0;34m\u001b[0m\u001b[0m\n\u001b[1;32m   1475\u001b[0m         \u001b[0;32mreturn\u001b[0m \u001b[0mwrapper\u001b[0m\u001b[0;34m\u001b[0m\u001b[0;34m\u001b[0m\u001b[0m\n",
            "\u001b[0;32m/usr/local/lib/python3.10/dist-packages/sklearn/pipeline.py\u001b[0m in \u001b[0;36mfit\u001b[0;34m(self, X, y, **params)\u001b[0m\n\u001b[1;32m    467\u001b[0m         \"\"\"\n\u001b[1;32m    468\u001b[0m         \u001b[0mrouted_params\u001b[0m \u001b[0;34m=\u001b[0m \u001b[0mself\u001b[0m\u001b[0;34m.\u001b[0m\u001b[0m_check_method_params\u001b[0m\u001b[0;34m(\u001b[0m\u001b[0mmethod\u001b[0m\u001b[0;34m=\u001b[0m\u001b[0;34m\"fit\"\u001b[0m\u001b[0;34m,\u001b[0m \u001b[0mprops\u001b[0m\u001b[0;34m=\u001b[0m\u001b[0mparams\u001b[0m\u001b[0;34m)\u001b[0m\u001b[0;34m\u001b[0m\u001b[0;34m\u001b[0m\u001b[0m\n\u001b[0;32m--> 469\u001b[0;31m         \u001b[0mXt\u001b[0m \u001b[0;34m=\u001b[0m \u001b[0mself\u001b[0m\u001b[0;34m.\u001b[0m\u001b[0m_fit\u001b[0m\u001b[0;34m(\u001b[0m\u001b[0mX\u001b[0m\u001b[0;34m,\u001b[0m \u001b[0my\u001b[0m\u001b[0;34m,\u001b[0m \u001b[0mrouted_params\u001b[0m\u001b[0;34m)\u001b[0m\u001b[0;34m\u001b[0m\u001b[0;34m\u001b[0m\u001b[0m\n\u001b[0m\u001b[1;32m    470\u001b[0m         \u001b[0;32mwith\u001b[0m \u001b[0m_print_elapsed_time\u001b[0m\u001b[0;34m(\u001b[0m\u001b[0;34m\"Pipeline\"\u001b[0m\u001b[0;34m,\u001b[0m \u001b[0mself\u001b[0m\u001b[0;34m.\u001b[0m\u001b[0m_log_message\u001b[0m\u001b[0;34m(\u001b[0m\u001b[0mlen\u001b[0m\u001b[0;34m(\u001b[0m\u001b[0mself\u001b[0m\u001b[0;34m.\u001b[0m\u001b[0msteps\u001b[0m\u001b[0;34m)\u001b[0m \u001b[0;34m-\u001b[0m \u001b[0;36m1\u001b[0m\u001b[0;34m)\u001b[0m\u001b[0;34m)\u001b[0m\u001b[0;34m:\u001b[0m\u001b[0;34m\u001b[0m\u001b[0;34m\u001b[0m\u001b[0m\n\u001b[1;32m    471\u001b[0m             \u001b[0;32mif\u001b[0m \u001b[0mself\u001b[0m\u001b[0;34m.\u001b[0m\u001b[0m_final_estimator\u001b[0m \u001b[0;34m!=\u001b[0m \u001b[0;34m\"passthrough\"\u001b[0m\u001b[0;34m:\u001b[0m\u001b[0;34m\u001b[0m\u001b[0;34m\u001b[0m\u001b[0m\n",
            "\u001b[0;32m/usr/local/lib/python3.10/dist-packages/sklearn/pipeline.py\u001b[0m in \u001b[0;36m_fit\u001b[0;34m(self, X, y, routed_params)\u001b[0m\n\u001b[1;32m    404\u001b[0m                 \u001b[0mcloned_transformer\u001b[0m \u001b[0;34m=\u001b[0m \u001b[0mclone\u001b[0m\u001b[0;34m(\u001b[0m\u001b[0mtransformer\u001b[0m\u001b[0;34m)\u001b[0m\u001b[0;34m\u001b[0m\u001b[0;34m\u001b[0m\u001b[0m\n\u001b[1;32m    405\u001b[0m             \u001b[0;31m# Fit or load from cache the current transformer\u001b[0m\u001b[0;34m\u001b[0m\u001b[0;34m\u001b[0m\u001b[0m\n\u001b[0;32m--> 406\u001b[0;31m             X, fitted_transformer = fit_transform_one_cached(\n\u001b[0m\u001b[1;32m    407\u001b[0m                 \u001b[0mcloned_transformer\u001b[0m\u001b[0;34m,\u001b[0m\u001b[0;34m\u001b[0m\u001b[0;34m\u001b[0m\u001b[0m\n\u001b[1;32m    408\u001b[0m                 \u001b[0mX\u001b[0m\u001b[0;34m,\u001b[0m\u001b[0;34m\u001b[0m\u001b[0;34m\u001b[0m\u001b[0m\n",
            "\u001b[0;32m/usr/local/lib/python3.10/dist-packages/joblib/memory.py\u001b[0m in \u001b[0;36m__call__\u001b[0;34m(self, *args, **kwargs)\u001b[0m\n\u001b[1;32m    310\u001b[0m \u001b[0;34m\u001b[0m\u001b[0m\n\u001b[1;32m    311\u001b[0m     \u001b[0;32mdef\u001b[0m \u001b[0m__call__\u001b[0m\u001b[0;34m(\u001b[0m\u001b[0mself\u001b[0m\u001b[0;34m,\u001b[0m \u001b[0;34m*\u001b[0m\u001b[0margs\u001b[0m\u001b[0;34m,\u001b[0m \u001b[0;34m**\u001b[0m\u001b[0mkwargs\u001b[0m\u001b[0;34m)\u001b[0m\u001b[0;34m:\u001b[0m\u001b[0;34m\u001b[0m\u001b[0;34m\u001b[0m\u001b[0m\n\u001b[0;32m--> 312\u001b[0;31m         \u001b[0;32mreturn\u001b[0m \u001b[0mself\u001b[0m\u001b[0;34m.\u001b[0m\u001b[0mfunc\u001b[0m\u001b[0;34m(\u001b[0m\u001b[0;34m*\u001b[0m\u001b[0margs\u001b[0m\u001b[0;34m,\u001b[0m \u001b[0;34m**\u001b[0m\u001b[0mkwargs\u001b[0m\u001b[0;34m)\u001b[0m\u001b[0;34m\u001b[0m\u001b[0;34m\u001b[0m\u001b[0m\n\u001b[0m\u001b[1;32m    313\u001b[0m \u001b[0;34m\u001b[0m\u001b[0m\n\u001b[1;32m    314\u001b[0m     \u001b[0;32mdef\u001b[0m \u001b[0mcall_and_shelve\u001b[0m\u001b[0;34m(\u001b[0m\u001b[0mself\u001b[0m\u001b[0;34m,\u001b[0m \u001b[0;34m*\u001b[0m\u001b[0margs\u001b[0m\u001b[0;34m,\u001b[0m \u001b[0;34m**\u001b[0m\u001b[0mkwargs\u001b[0m\u001b[0;34m)\u001b[0m\u001b[0;34m:\u001b[0m\u001b[0;34m\u001b[0m\u001b[0;34m\u001b[0m\u001b[0m\n",
            "\u001b[0;32m/usr/local/lib/python3.10/dist-packages/sklearn/pipeline.py\u001b[0m in \u001b[0;36m_fit_transform_one\u001b[0;34m(transformer, X, y, weight, message_clsname, message, params)\u001b[0m\n\u001b[1;32m   1308\u001b[0m     \u001b[0;32mwith\u001b[0m \u001b[0m_print_elapsed_time\u001b[0m\u001b[0;34m(\u001b[0m\u001b[0mmessage_clsname\u001b[0m\u001b[0;34m,\u001b[0m \u001b[0mmessage\u001b[0m\u001b[0;34m)\u001b[0m\u001b[0;34m:\u001b[0m\u001b[0;34m\u001b[0m\u001b[0;34m\u001b[0m\u001b[0m\n\u001b[1;32m   1309\u001b[0m         \u001b[0;32mif\u001b[0m \u001b[0mhasattr\u001b[0m\u001b[0;34m(\u001b[0m\u001b[0mtransformer\u001b[0m\u001b[0;34m,\u001b[0m \u001b[0;34m\"fit_transform\"\u001b[0m\u001b[0;34m)\u001b[0m\u001b[0;34m:\u001b[0m\u001b[0;34m\u001b[0m\u001b[0;34m\u001b[0m\u001b[0m\n\u001b[0;32m-> 1310\u001b[0;31m             \u001b[0mres\u001b[0m \u001b[0;34m=\u001b[0m \u001b[0mtransformer\u001b[0m\u001b[0;34m.\u001b[0m\u001b[0mfit_transform\u001b[0m\u001b[0;34m(\u001b[0m\u001b[0mX\u001b[0m\u001b[0;34m,\u001b[0m \u001b[0my\u001b[0m\u001b[0;34m,\u001b[0m \u001b[0;34m**\u001b[0m\u001b[0mparams\u001b[0m\u001b[0;34m.\u001b[0m\u001b[0mget\u001b[0m\u001b[0;34m(\u001b[0m\u001b[0;34m\"fit_transform\"\u001b[0m\u001b[0;34m,\u001b[0m \u001b[0;34m{\u001b[0m\u001b[0;34m}\u001b[0m\u001b[0;34m)\u001b[0m\u001b[0;34m)\u001b[0m\u001b[0;34m\u001b[0m\u001b[0;34m\u001b[0m\u001b[0m\n\u001b[0m\u001b[1;32m   1311\u001b[0m         \u001b[0;32melse\u001b[0m\u001b[0;34m:\u001b[0m\u001b[0;34m\u001b[0m\u001b[0;34m\u001b[0m\u001b[0m\n\u001b[1;32m   1312\u001b[0m             res = transformer.fit(X, y, **params.get(\"fit\", {})).transform(\n",
            "\u001b[0;32m/usr/local/lib/python3.10/dist-packages/sklearn/utils/_set_output.py\u001b[0m in \u001b[0;36mwrapped\u001b[0;34m(self, X, *args, **kwargs)\u001b[0m\n\u001b[1;32m    314\u001b[0m     \u001b[0;34m@\u001b[0m\u001b[0mwraps\u001b[0m\u001b[0;34m(\u001b[0m\u001b[0mf\u001b[0m\u001b[0;34m)\u001b[0m\u001b[0;34m\u001b[0m\u001b[0;34m\u001b[0m\u001b[0m\n\u001b[1;32m    315\u001b[0m     \u001b[0;32mdef\u001b[0m \u001b[0mwrapped\u001b[0m\u001b[0;34m(\u001b[0m\u001b[0mself\u001b[0m\u001b[0;34m,\u001b[0m \u001b[0mX\u001b[0m\u001b[0;34m,\u001b[0m \u001b[0;34m*\u001b[0m\u001b[0margs\u001b[0m\u001b[0;34m,\u001b[0m \u001b[0;34m**\u001b[0m\u001b[0mkwargs\u001b[0m\u001b[0;34m)\u001b[0m\u001b[0;34m:\u001b[0m\u001b[0;34m\u001b[0m\u001b[0;34m\u001b[0m\u001b[0m\n\u001b[0;32m--> 316\u001b[0;31m         \u001b[0mdata_to_wrap\u001b[0m \u001b[0;34m=\u001b[0m \u001b[0mf\u001b[0m\u001b[0;34m(\u001b[0m\u001b[0mself\u001b[0m\u001b[0;34m,\u001b[0m \u001b[0mX\u001b[0m\u001b[0;34m,\u001b[0m \u001b[0;34m*\u001b[0m\u001b[0margs\u001b[0m\u001b[0;34m,\u001b[0m \u001b[0;34m**\u001b[0m\u001b[0mkwargs\u001b[0m\u001b[0;34m)\u001b[0m\u001b[0;34m\u001b[0m\u001b[0;34m\u001b[0m\u001b[0m\n\u001b[0m\u001b[1;32m    317\u001b[0m         \u001b[0;32mif\u001b[0m \u001b[0misinstance\u001b[0m\u001b[0;34m(\u001b[0m\u001b[0mdata_to_wrap\u001b[0m\u001b[0;34m,\u001b[0m \u001b[0mtuple\u001b[0m\u001b[0;34m)\u001b[0m\u001b[0;34m:\u001b[0m\u001b[0;34m\u001b[0m\u001b[0;34m\u001b[0m\u001b[0m\n\u001b[1;32m    318\u001b[0m             \u001b[0;31m# only wrap the first output for cross decomposition\u001b[0m\u001b[0;34m\u001b[0m\u001b[0;34m\u001b[0m\u001b[0m\n",
            "\u001b[0;32m/usr/local/lib/python3.10/dist-packages/sklearn/base.py\u001b[0m in \u001b[0;36mfit_transform\u001b[0;34m(self, X, y, **fit_params)\u001b[0m\n\u001b[1;32m   1099\u001b[0m         \u001b[0;32melse\u001b[0m\u001b[0;34m:\u001b[0m\u001b[0;34m\u001b[0m\u001b[0;34m\u001b[0m\u001b[0m\n\u001b[1;32m   1100\u001b[0m             \u001b[0;31m# fit method of arity 2 (supervised transformation)\u001b[0m\u001b[0;34m\u001b[0m\u001b[0;34m\u001b[0m\u001b[0m\n\u001b[0;32m-> 1101\u001b[0;31m             \u001b[0;32mreturn\u001b[0m \u001b[0mself\u001b[0m\u001b[0;34m.\u001b[0m\u001b[0mfit\u001b[0m\u001b[0;34m(\u001b[0m\u001b[0mX\u001b[0m\u001b[0;34m,\u001b[0m \u001b[0my\u001b[0m\u001b[0;34m,\u001b[0m \u001b[0;34m**\u001b[0m\u001b[0mfit_params\u001b[0m\u001b[0;34m)\u001b[0m\u001b[0;34m.\u001b[0m\u001b[0mtransform\u001b[0m\u001b[0;34m(\u001b[0m\u001b[0mX\u001b[0m\u001b[0;34m)\u001b[0m\u001b[0;34m\u001b[0m\u001b[0;34m\u001b[0m\u001b[0m\n\u001b[0m\u001b[1;32m   1102\u001b[0m \u001b[0;34m\u001b[0m\u001b[0m\n\u001b[1;32m   1103\u001b[0m \u001b[0;34m\u001b[0m\u001b[0m\n",
            "\u001b[0;32m/usr/local/lib/python3.10/dist-packages/sklearn/utils/_set_output.py\u001b[0m in \u001b[0;36mwrapped\u001b[0;34m(self, X, *args, **kwargs)\u001b[0m\n\u001b[1;32m    314\u001b[0m     \u001b[0;34m@\u001b[0m\u001b[0mwraps\u001b[0m\u001b[0;34m(\u001b[0m\u001b[0mf\u001b[0m\u001b[0;34m)\u001b[0m\u001b[0;34m\u001b[0m\u001b[0;34m\u001b[0m\u001b[0m\n\u001b[1;32m    315\u001b[0m     \u001b[0;32mdef\u001b[0m \u001b[0mwrapped\u001b[0m\u001b[0;34m(\u001b[0m\u001b[0mself\u001b[0m\u001b[0;34m,\u001b[0m \u001b[0mX\u001b[0m\u001b[0;34m,\u001b[0m \u001b[0;34m*\u001b[0m\u001b[0margs\u001b[0m\u001b[0;34m,\u001b[0m \u001b[0;34m**\u001b[0m\u001b[0mkwargs\u001b[0m\u001b[0;34m)\u001b[0m\u001b[0;34m:\u001b[0m\u001b[0;34m\u001b[0m\u001b[0;34m\u001b[0m\u001b[0m\n\u001b[0;32m--> 316\u001b[0;31m         \u001b[0mdata_to_wrap\u001b[0m \u001b[0;34m=\u001b[0m \u001b[0mf\u001b[0m\u001b[0;34m(\u001b[0m\u001b[0mself\u001b[0m\u001b[0;34m,\u001b[0m \u001b[0mX\u001b[0m\u001b[0;34m,\u001b[0m \u001b[0;34m*\u001b[0m\u001b[0margs\u001b[0m\u001b[0;34m,\u001b[0m \u001b[0;34m**\u001b[0m\u001b[0mkwargs\u001b[0m\u001b[0;34m)\u001b[0m\u001b[0;34m\u001b[0m\u001b[0;34m\u001b[0m\u001b[0m\n\u001b[0m\u001b[1;32m    317\u001b[0m         \u001b[0;32mif\u001b[0m \u001b[0misinstance\u001b[0m\u001b[0;34m(\u001b[0m\u001b[0mdata_to_wrap\u001b[0m\u001b[0;34m,\u001b[0m \u001b[0mtuple\u001b[0m\u001b[0;34m)\u001b[0m\u001b[0;34m:\u001b[0m\u001b[0;34m\u001b[0m\u001b[0;34m\u001b[0m\u001b[0m\n\u001b[1;32m    318\u001b[0m             \u001b[0;31m# only wrap the first output for cross decomposition\u001b[0m\u001b[0;34m\u001b[0m\u001b[0;34m\u001b[0m\u001b[0m\n",
            "\u001b[0;32m<ipython-input-78-f3a43657604a>\u001b[0m in \u001b[0;36mtransform\u001b[0;34m(self, X, y)\u001b[0m\n\u001b[1;32m     26\u001b[0m             \u001b[0;31m# stopword removal\u001b[0m\u001b[0;34m\u001b[0m\u001b[0;34m\u001b[0m\u001b[0m\n\u001b[1;32m     27\u001b[0m             \u001b[0;31m# remove common english words that don't carry much meaning\u001b[0m\u001b[0;34m\u001b[0m\u001b[0;34m\u001b[0m\u001b[0m\n\u001b[0;32m---> 28\u001b[0;31m             \u001b[0mstopped\u001b[0m \u001b[0;34m=\u001b[0m \u001b[0;34m[\u001b[0m\u001b[0mtoken\u001b[0m \u001b[0;32mfor\u001b[0m \u001b[0mtoken\u001b[0m \u001b[0;32min\u001b[0m \u001b[0mnormalized\u001b[0m \u001b[0;32mif\u001b[0m \u001b[0mtoken\u001b[0m \u001b[0;32mnot\u001b[0m \u001b[0;32min\u001b[0m \u001b[0mstopwords\u001b[0m\u001b[0;34m.\u001b[0m\u001b[0mwords\u001b[0m\u001b[0;34m(\u001b[0m\u001b[0;34m'english'\u001b[0m\u001b[0;34m)\u001b[0m\u001b[0;34m]\u001b[0m\u001b[0;34m\u001b[0m\u001b[0;34m\u001b[0m\u001b[0m\n\u001b[0m\u001b[1;32m     29\u001b[0m \u001b[0;34m\u001b[0m\u001b[0m\n\u001b[1;32m     30\u001b[0m             \u001b[0;31m# stemming\u001b[0m\u001b[0;34m\u001b[0m\u001b[0;34m\u001b[0m\u001b[0m\n",
            "\u001b[0;32m<ipython-input-78-f3a43657604a>\u001b[0m in \u001b[0;36m<listcomp>\u001b[0;34m(.0)\u001b[0m\n\u001b[1;32m     26\u001b[0m             \u001b[0;31m# stopword removal\u001b[0m\u001b[0;34m\u001b[0m\u001b[0;34m\u001b[0m\u001b[0m\n\u001b[1;32m     27\u001b[0m             \u001b[0;31m# remove common english words that don't carry much meaning\u001b[0m\u001b[0;34m\u001b[0m\u001b[0;34m\u001b[0m\u001b[0m\n\u001b[0;32m---> 28\u001b[0;31m             \u001b[0mstopped\u001b[0m \u001b[0;34m=\u001b[0m \u001b[0;34m[\u001b[0m\u001b[0mtoken\u001b[0m \u001b[0;32mfor\u001b[0m \u001b[0mtoken\u001b[0m \u001b[0;32min\u001b[0m \u001b[0mnormalized\u001b[0m \u001b[0;32mif\u001b[0m \u001b[0mtoken\u001b[0m \u001b[0;32mnot\u001b[0m \u001b[0;32min\u001b[0m \u001b[0mstopwords\u001b[0m\u001b[0;34m.\u001b[0m\u001b[0mwords\u001b[0m\u001b[0;34m(\u001b[0m\u001b[0;34m'english'\u001b[0m\u001b[0;34m)\u001b[0m\u001b[0;34m]\u001b[0m\u001b[0;34m\u001b[0m\u001b[0;34m\u001b[0m\u001b[0m\n\u001b[0m\u001b[1;32m     29\u001b[0m \u001b[0;34m\u001b[0m\u001b[0m\n\u001b[1;32m     30\u001b[0m             \u001b[0;31m# stemming\u001b[0m\u001b[0;34m\u001b[0m\u001b[0;34m\u001b[0m\u001b[0m\n",
            "\u001b[0;31mKeyboardInterrupt\u001b[0m: "
          ]
        }
      ]
    },
    {
      "cell_type": "markdown",
      "source": [
        "**Feature Size Impact Analysis:**\n",
        "I investigated how limiting the number of features affects model performance using the test dataset. I tested four different maximum feature sizes (300, 1000, 3000, and 5000) to understand this trade-off:\n",
        "\n",
        "Results Analysis:\n",
        "- 300 features: 27.6% accuracy\n",
        "  - Shows limited vocabulary impacts performance\n",
        "  - Provides a good baseline for comparison\n",
        "\n",
        "- 1000 features: 25.1% accuracy\n",
        "  - Surprisingly showed slightly lower performance\n",
        "  - Might indicate that adding more features without proper selection can introduce noise\n",
        "  - Suggests that feature quality is as important as quantity\n",
        "\n",
        "- 3000 features: 30.7% accuracy\n",
        "  - Significant improvement over smaller feature sets\n",
        "  - Indicates better coverage of important terms\n",
        "  - Shows benefit of more comprehensive vocabulary\n",
        "\n",
        "- 5000 features: 32.0% accuracy\n",
        "  - Best performance among tested sizes\n",
        "  - Demonstrates that larger vocabulary helps in this task\n",
        "  - Suggests we might benefit from even more features\n",
        "\n",
        "Key Findings:\n",
        "1. The trend generally shows that increasing the feature size improves performance\n",
        "2. The improvement from 300 to 5000 features (4.4% increase) suggests that our reviews contain many relevant terms\n",
        "3. The relatively low overall accuracy indicates that representation alone isn't sufficient - we'll need sophisticated algorithms in the next section\n",
        "\n",
        "Based on these results, I chose to proceed with 5000 features for the final implementation as it provided the best performance while still maintaining reasonable computational efficiency."
      ],
      "metadata": {
        "id": "bFTcmfC0tJxZ"
      }
    },
    {
      "cell_type": "markdown",
      "source": [
        "# Compare Pipelines with and without pre-processing"
      ],
      "metadata": {
        "id": "1ND1M3MmuEIy"
      }
    },
    {
      "cell_type": "code",
      "source": [
        "def create_representation_pipelines():\n",
        "    # with preprocessing\n",
        "    pipeline_with_prep = Pipeline([\n",
        "        ('preprocessor', AmazonReviewPreprocessor()),  # custom preprocessor\n",
        "        ('vectorizer', CountVectorizer(max_features=5000)),  # limit features to manage dimensionality\n",
        "        ('tfidf', TfidfTransformer())\n",
        "    ])\n",
        "\n",
        "    # without preprocessing\n",
        "    pipeline_without_prep = Pipeline([\n",
        "        ('vectorizer', CountVectorizer(max_features=5000)),\n",
        "        ('tfidf', TfidfTransformer())\n",
        "    ])\n",
        "\n",
        "    return pipeline_with_prep, pipeline_without_prep"
      ],
      "metadata": {
        "id": "3tHx9ih6aqf6"
      },
      "execution_count": 83,
      "outputs": []
    },
    {
      "cell_type": "code",
      "source": [
        "def explore_tfidf_representations(pipeline):\n",
        "    sample_reviews = dataset['train']['text'][:1000]\n",
        "\n",
        "    # fit and transform\n",
        "    term_vectors = pipeline.fit_transform(sample_reviews)\n",
        "\n",
        "    print(f\"Shape of TF-IDF matrix: {term_vectors.shape}\")\n",
        "\n",
        "    # feature names (words)\n",
        "    feature_names = pipeline.named_steps['vectorizer'].get_feature_names_out()\n",
        "\n",
        "    # statistics about the representations\n",
        "    print(f\"\\nNumber of unique terms: {len(feature_names)}\")\n",
        "    print(f\"Average non-zero terms per review: {term_vectors.nnz / term_vectors.shape[0]:.2f}\")\n",
        "\n",
        "    # top terms by TF-IDF score\n",
        "    tfidf_sums = term_vectors.sum(axis=0).A1\n",
        "    top_indices = tfidf_sums.argsort()[-10:][::-1]\n",
        "    print(\"\\nTop 10 terms by TF-IDF score:\")\n",
        "    for idx in top_indices:\n",
        "        print(f\"{feature_names[idx]}: {tfidf_sums[idx]:.2f}\")"
      ],
      "metadata": {
        "id": "fXiHEg_sbMLP"
      },
      "execution_count": 84,
      "outputs": []
    },
    {
      "cell_type": "code",
      "source": [
        "def compare_pipelines():\n",
        "    pipeline_with_prep, pipeline_without_prep = create_representation_pipelines()\n",
        "\n",
        "    print(\"Exploring TF-IDF representations with preprocessing:\")\n",
        "    explore_tfidf_representations(pipeline_with_prep)\n",
        "\n",
        "    print(\"\\nExploring TF-IDF representations without preprocessing:\")\n",
        "    explore_tfidf_representations(pipeline_without_prep)"
      ],
      "metadata": {
        "id": "TiTELAhHbrkL"
      },
      "execution_count": 85,
      "outputs": []
    },
    {
      "cell_type": "code",
      "source": [
        "def visualise_pipelines():\n",
        "    pipeline_with_prep, pipeline_without_prep = create_representation_pipelines()\n",
        "\n",
        "    sample_reviews = dataset['train']['text'][:1000]\n",
        "\n",
        "    # representations from both pipelines\n",
        "    vectors_with_prep = pipeline_with_prep.fit_transform(sample_reviews)\n",
        "    vectors_without_prep = pipeline_without_prep.fit_transform(sample_reviews)\n",
        "\n",
        "    # compare sparsity\n",
        "    sparsity_with_prep = 1.0 - vectors_with_prep.nnz / (vectors_with_prep.shape[0] * vectors_with_prep.shape[1])\n",
        "    sparsity_without_prep = 1.0 - vectors_without_prep.nnz / (vectors_without_prep.shape[0] * vectors_without_prep.shape[1])\n",
        "\n",
        "    # comparison\n",
        "    print(f\"Sparsity with preprocessing: {sparsity_with_prep:.2%}\")\n",
        "    print(f\"Sparsity without preprocessing: {sparsity_without_prep:.2%}\")"
      ],
      "metadata": {
        "id": "l9XFD98eb11X"
      },
      "execution_count": 86,
      "outputs": []
    },
    {
      "cell_type": "code",
      "source": [
        "compare_pipelines()\n",
        "visualise_pipelines()"
      ],
      "metadata": {
        "colab": {
          "base_uri": "https://localhost:8080/"
        },
        "id": "Ndl29YCTcE5N",
        "outputId": "8309a2be-897e-49db-c62a-fbb049c7a062"
      },
      "execution_count": 87,
      "outputs": [
        {
          "output_type": "stream",
          "name": "stdout",
          "text": [
            "Exploring TF-IDF representations with preprocessing:\n",
            "Shape of TF-IDF matrix: (1000, 2791)\n",
            "\n",
            "Number of unique terms: 2791\n",
            "Average non-zero terms per review: 14.29\n",
            "\n",
            "Top 10 terms by TF-IDF score:\n",
            "work: 35.28\n",
            "product: 28.47\n",
            "one: 27.76\n",
            "receiv: 26.10\n",
            "use: 24.61\n",
            "never: 22.51\n",
            "order: 19.36\n",
            "return: 19.22\n",
            "like: 19.16\n",
            "get: 18.26\n",
            "\n",
            "Exploring TF-IDF representations without preprocessing:\n",
            "Shape of TF-IDF matrix: (1000, 3956)\n",
            "\n",
            "Number of unique terms: 3956\n",
            "Average non-zero terms per review: 25.32\n",
            "\n",
            "Top 10 terms by TF-IDF score:\n",
            "the: 79.38\n",
            "it: 62.44\n",
            "and: 50.96\n",
            "to: 48.77\n",
            "not: 42.11\n",
            "this: 36.69\n",
            "was: 35.04\n",
            "of: 33.32\n",
            "is: 30.80\n",
            "for: 29.84\n",
            "Sparsity with preprocessing: 99.49%\n",
            "Sparsity without preprocessing: 99.36%\n"
          ]
        }
      ]
    },
    {
      "cell_type": "markdown",
      "source": [
        "\n",
        "**Comparison of Approaches**:\n",
        "I implemented two pipelines to understand the impact of preprocessing:\n",
        "\n",
        "1. Pipeline with preprocessing:\n",
        "- Results show fewer unique terms (2,791 vs 3,956)\n",
        "- More focused vocabulary with meaningful terms (e.g., 'product', 'receiv', 'return')\n",
        "- Average of 14.29 terms per review\n",
        "- Sparsity of 99.49%\n",
        "\n",
        "2. Pipeline without preprocessing:\n",
        "- Larger vocabulary including stop words\n",
        "- Top terms are mostly common English words ('the', 'it', 'and')\n",
        "- Average of 25.32 terms per review\n",
        "- Sparsity of 99.36%\n",
        "\n",
        "The results are quite revealing. With preprocessing, we see that:\n",
        "- The vocabulary is reduced by about 30%\n",
        "- The top terms are more relevant to product reviews\n",
        "- The representations are slightly sparser, suggesting more focused feature space\n"
      ],
      "metadata": {
        "id": "TMQimnvJt_xA"
      }
    },
    {
      "cell_type": "markdown",
      "source": [
        "# **Algorithms**\n",
        "I implemented two distinct algorithms to analyse Amazon review sentiments: a Multi-Layer Perceptron (MLP) with TF-IDF features and a Long Short-Term Memory (LSTM) network. The MLP pipeline utilises a preprocessed TF-IDF representation with 5000 features, feeding into a neural network with two hidden layers (100 and 50 neurons) using ReLU activation and adaptive learning rate. This approach uses the power of TF-IDF to capture term importance while using MLP's ability to learn complex patterns. For the second pipeline, I employed an LSTM architecture, specifically designed for sequential data like text. The LSTM model incorporates an embedding layer (32 dimensions) followed by two LSTM layers (64 and 32 units) and dense layers with dropout for regularisation. This architecture allows the model to capture long-range dependencies and contextual information in the review text, which is important for sentiment analysis. The final dense layer uses softmax activation to output probabilities for the five rating classes."
      ],
      "metadata": {
        "id": "ibXkb3F6QRd0"
      }
    },
    {
      "cell_type": "markdown",
      "source": [
        "# Pipeline 1: TF-IDF With Multi-Layer Perceptron"
      ],
      "metadata": {
        "id": "xDhhr-9mRb-i"
      }
    },
    {
      "cell_type": "markdown",
      "source": [
        "For the first pipeline, I decided to use MLP because we covered neural networks extensively in lectures, and I wanted to see how a basic neural network would perform with TF-IDF features. TF-IDF works well for review analysis, so combining it with MLP seemed promising."
      ],
      "metadata": {
        "id": "lnHOVPelTBIt"
      }
    },
    {
      "cell_type": "code",
      "source": [
        "def create_mlp_pipeline():\n",
        "  return Pipeline([\n",
        "        ('preprocessor', AmazonReviewPreprocessor()),\n",
        "        ('vectorizer', CountVectorizer(max_features=5000)),\n",
        "        ('tfidf', TfidfTransformer()),\n",
        "        ('classifier', MLPClassifier(\n",
        "            hidden_layer_sizes=(100, 50),\n",
        "            activation='relu',\n",
        "            alpha=0.0001,\n",
        "            learning_rate='adaptive',\n",
        "            max_iter=200,\n",
        "            random_state=42\n",
        "        ))\n",
        "    ])"
      ],
      "metadata": {
        "id": "hj53wQD7khN8"
      },
      "execution_count": 88,
      "outputs": []
    },
    {
      "cell_type": "markdown",
      "source": [
        "# Pipeline 2: LSTM Network"
      ],
      "metadata": {
        "id": "deYxe7nfRk-g"
      }
    },
    {
      "cell_type": "markdown",
      "source": [
        "For the second approach, LSTM was chosen. LSTMs are good at handling sequential data like text, so I thought it would be interesting to compare it with the simpler MLP approach."
      ],
      "metadata": {
        "id": "25hDXSOZTYOh"
      }
    },
    {
      "cell_type": "code",
      "source": [
        "import tensorflow as tf\n",
        "from tensorflow.keras.preprocessing.text import Tokenizer\n",
        "from tensorflow.keras.preprocessing.sequence import pad_sequences\n",
        "\n",
        "def create_lstm_model(vocab_size, embedding_dim=32, max_length=200):\n",
        "    model = tf.keras.Sequential([\n",
        "        tf.keras.layers.Embedding(vocab_size, embedding_dim, input_length=max_length),\n",
        "        tf.keras.layers.LSTM(64, return_sequences=True),\n",
        "        tf.keras.layers.LSTM(32),\n",
        "        tf.keras.layers.Dense(16, activation='relu'),\n",
        "        tf.keras.layers.Dropout(0.5), # prevent overfitting\n",
        "        tf.keras.layers.Dense(5, activation='softmax') # 5 outputs for star ratings\n",
        "    ])\n",
        "\n",
        "    model.compile(\n",
        "        optimizer='adam',\n",
        "        loss='sparse_categorical_crossentropy',\n",
        "        metrics=['accuracy']\n",
        "    )\n",
        "    return model"
      ],
      "metadata": {
        "id": "QlXvu4KWRtcT"
      },
      "execution_count": 89,
      "outputs": []
    },
    {
      "cell_type": "markdown",
      "source": [
        "# **Training and Evaluation of Models**"
      ],
      "metadata": {
        "id": "EXE-WlPOSPeW"
      }
    },
    {
      "cell_type": "code",
      "source": [
        "from sklearn.metrics import accuracy_score, f1_score, confusion_matrix\n",
        "\n",
        "def train_evaluate_models(X, y, n_splits=5):\n",
        "    results = {\n",
        "        'mlp': {'accuracy': [], 'f1': []},\n",
        "        'lstm': {'accuracy': [], 'f1': []}\n",
        "    }\n",
        "\n",
        "    mlp = create_mlp_pipeline()\n",
        "\n",
        "    kf = StratifiedKFold(n_splits=n_splits, shuffle=True, random_state=42)\n",
        "\n",
        "    for fold, (train_idx, test_idx) in enumerate(kf.split(X, y)):\n",
        "        print(f\"\\nFold {fold + 1}/{n_splits}\")\n",
        "\n",
        "        X_train, X_test = [X[i] for i in train_idx], [X[i] for i in test_idx]\n",
        "        y_train, y_test = y[train_idx], y[test_idx]\n",
        "\n",
        "        # mlp training\n",
        "        print(\"Training MLP...\")\n",
        "        mlp.fit(X_train, y_train)\n",
        "        mlp_pred = mlp.predict(X_test)\n",
        "\n",
        "        results['mlp']['accuracy'].append(accuracy_score(y_test, mlp_pred))\n",
        "        results['mlp']['f1'].append(f1_score(y_test, mlp_pred, average='weighted'))\n",
        "\n",
        "        # LSTM processing\n",
        "        print(\"Preparing data for LSTM...\")\n",
        "        tokenizer = Tokenizer(num_words=5000)\n",
        "        tokenizer.fit_on_texts(X_train)\n",
        "        X_train_pad = tokenizer.texts_to_sequences(X_train)\n",
        "        X_test_pad = tokenizer.texts_to_sequences(X_test)\n",
        "\n",
        "        max_length = 200  # based on dataset analysis\n",
        "        X_train_pad = pad_sequences(X_train_pad, maxlen=max_length)\n",
        "        X_test_pad = pad_sequences(X_test_pad, maxlen=max_length)\n",
        "\n",
        "        print(\"Training LSTM...\")\n",
        "        lstm_model = create_lstm_model(vocab_size=5000)\n",
        "        history = lstm_model.fit(\n",
        "            X_train_pad, y_train,\n",
        "            epochs=5,\n",
        "            batch_size=32,\n",
        "            validation_split=0.2,\n",
        "            verbose=1\n",
        "        )\n",
        "\n",
        "        lstm_pred = np.argmax(lstm_model.predict(X_test_pad), axis=1)\n",
        "        results['lstm']['accuracy'].append(accuracy_score(y_test, lstm_pred))\n",
        "        results['lstm']['f1'].append(f1_score(y_test, lstm_pred, average='weighted'))\n",
        "\n",
        "        print(f\"MLP Accuracy this fold: {results['mlp']['accuracy'][-1]:.3f}\")\n",
        "        print(f\"LSTM Accuracy this fold: {results['lstm']['accuracy'][-1]:.3f}\")\n",
        "\n",
        "    return results\n"
      ],
      "metadata": {
        "id": "L_fy5CX1SR65"
      },
      "execution_count": 93,
      "outputs": []
    },
    {
      "cell_type": "code",
      "source": [
        "def plot_results(results):\n",
        "    plt.figure(figsize=(10, 5))\n",
        "\n",
        "    plt.subplot(1, 2, 1)\n",
        "    plt.boxplot([results['mlp']['accuracy'], results['lstm']['accuracy']],\n",
        "                labels=['MLP', 'LSTM'])\n",
        "    plt.title('Model Accuracy Comparison')\n",
        "    plt.ylabel('Accuracy')\n",
        "\n",
        "    plt.subplot(1, 2, 2)\n",
        "    plt.boxplot([results['mlp']['f1'], results['lstm']['f1']],\n",
        "                labels=['MLP', 'LSTM'])\n",
        "    plt.title('Model F1 Score Comparison')\n",
        "    plt.ylabel('F1 Score')\n",
        "\n",
        "    plt.tight_layout()\n",
        "    plt.show()"
      ],
      "metadata": {
        "id": "AXsyXPQsSZ8D"
      },
      "execution_count": 91,
      "outputs": []
    },
    {
      "cell_type": "code",
      "source": [
        "def print_results_summary(results):\n",
        "    for model in results:\n",
        "        print(f\"\\n{model.upper()} Results:\")\n",
        "        print(f\"Average Accuracy: {np.mean(results[model]['accuracy']):.3f} (±{np.std(results[model]['accuracy']):.3f})\")\n",
        "        print(f\"Average F1 Score: {np.mean(results[model]['f1']):.3f} (±{np.std(results[model]['f1']):.3f})\")"
      ],
      "metadata": {
        "id": "EWgeBibSSb-_"
      },
      "execution_count": 94,
      "outputs": []
    },
    {
      "cell_type": "code",
      "source": [
        "# run the evaluation\n",
        "np.random.seed(1337)\n",
        "\n",
        "\n",
        "# Uncomment this to run tranining and evaluation on train dataset with 10k size\n",
        "# shuffle and limit dataset size\n",
        "# it appears to be sorted so we want to shuffle it\n",
        "# indices = np.random.permutation(len(dataset['train']['text']))[:10000]\n",
        "\n",
        "# X = [dataset['train']['text'][i] for i in indices]\n",
        "# y = np.array([dataset['train']['label'][i] for i in indices])\n",
        "\n",
        "# unique, counts = np.unique(y, return_counts=True)\n",
        "# print(\"Class distribution after shuffle:\")\n",
        "# for rating, count in zip(unique, counts):\n",
        "#    print(f\"Rating {rating + 1}: {count} reviews\")\n",
        "\n",
        "# Use test size for demonstration\n",
        "X = dataset['test']['text']\n",
        "y = np.array(dataset['test']['label'])\n",
        "\n",
        "results = train_evaluate_models(X, y)\n",
        "plot_results(results)\n",
        "print_results_summary(results)"
      ],
      "metadata": {
        "colab": {
          "base_uri": "https://localhost:8080/",
          "height": 465
        },
        "id": "UZhA4g8mSeMM",
        "outputId": "a50fb4f7-3818-48d0-b85e-2839e27f97ef"
      },
      "execution_count": 96,
      "outputs": [
        {
          "output_type": "stream",
          "name": "stdout",
          "text": [
            "\n",
            "Fold 1/5\n",
            "Training MLP...\n"
          ]
        },
        {
          "output_type": "stream",
          "name": "stderr",
          "text": [
            "/usr/local/lib/python3.10/dist-packages/sklearn/neural_network/_multilayer_perceptron.py:697: UserWarning: Training interrupted by user.\n",
            "  warnings.warn(\"Training interrupted by user.\")\n"
          ]
        },
        {
          "output_type": "error",
          "ename": "KeyboardInterrupt",
          "evalue": "",
          "traceback": [
            "\u001b[0;31m---------------------------------------------------------------------------\u001b[0m",
            "\u001b[0;31mKeyboardInterrupt\u001b[0m                         Traceback (most recent call last)",
            "\u001b[0;32m<ipython-input-96-c24a249f32d3>\u001b[0m in \u001b[0;36m<cell line: 22>\u001b[0;34m()\u001b[0m\n\u001b[1;32m     20\u001b[0m \u001b[0my\u001b[0m \u001b[0;34m=\u001b[0m \u001b[0mnp\u001b[0m\u001b[0;34m.\u001b[0m\u001b[0marray\u001b[0m\u001b[0;34m(\u001b[0m\u001b[0mdataset\u001b[0m\u001b[0;34m[\u001b[0m\u001b[0;34m'test'\u001b[0m\u001b[0;34m]\u001b[0m\u001b[0;34m[\u001b[0m\u001b[0;34m'label'\u001b[0m\u001b[0;34m]\u001b[0m\u001b[0;34m)\u001b[0m\u001b[0;34m\u001b[0m\u001b[0;34m\u001b[0m\u001b[0m\n\u001b[1;32m     21\u001b[0m \u001b[0;34m\u001b[0m\u001b[0m\n\u001b[0;32m---> 22\u001b[0;31m \u001b[0mresults\u001b[0m \u001b[0;34m=\u001b[0m \u001b[0mtrain_evaluate_models\u001b[0m\u001b[0;34m(\u001b[0m\u001b[0mX\u001b[0m\u001b[0;34m,\u001b[0m \u001b[0my\u001b[0m\u001b[0;34m)\u001b[0m\u001b[0;34m\u001b[0m\u001b[0;34m\u001b[0m\u001b[0m\n\u001b[0m\u001b[1;32m     23\u001b[0m \u001b[0mplot_results\u001b[0m\u001b[0;34m(\u001b[0m\u001b[0mresults\u001b[0m\u001b[0;34m)\u001b[0m\u001b[0;34m\u001b[0m\u001b[0;34m\u001b[0m\u001b[0m\n\u001b[1;32m     24\u001b[0m \u001b[0mprint_results_summary\u001b[0m\u001b[0;34m(\u001b[0m\u001b[0mresults\u001b[0m\u001b[0;34m)\u001b[0m\u001b[0;34m\u001b[0m\u001b[0;34m\u001b[0m\u001b[0m\n",
            "\u001b[0;32m<ipython-input-93-06806d5d67ce>\u001b[0m in \u001b[0;36mtrain_evaluate_models\u001b[0;34m(X, y, n_splits)\u001b[0m\n\u001b[1;32m     20\u001b[0m         \u001b[0mprint\u001b[0m\u001b[0;34m(\u001b[0m\u001b[0;34m\"Training MLP...\"\u001b[0m\u001b[0;34m)\u001b[0m\u001b[0;34m\u001b[0m\u001b[0;34m\u001b[0m\u001b[0m\n\u001b[1;32m     21\u001b[0m         \u001b[0mmlp\u001b[0m\u001b[0;34m.\u001b[0m\u001b[0mfit\u001b[0m\u001b[0;34m(\u001b[0m\u001b[0mX_train\u001b[0m\u001b[0;34m,\u001b[0m \u001b[0my_train\u001b[0m\u001b[0;34m)\u001b[0m\u001b[0;34m\u001b[0m\u001b[0;34m\u001b[0m\u001b[0m\n\u001b[0;32m---> 22\u001b[0;31m         \u001b[0mmlp_pred\u001b[0m \u001b[0;34m=\u001b[0m \u001b[0mmlp\u001b[0m\u001b[0;34m.\u001b[0m\u001b[0mpredict\u001b[0m\u001b[0;34m(\u001b[0m\u001b[0mX_test\u001b[0m\u001b[0;34m)\u001b[0m\u001b[0;34m\u001b[0m\u001b[0;34m\u001b[0m\u001b[0m\n\u001b[0m\u001b[1;32m     23\u001b[0m \u001b[0;34m\u001b[0m\u001b[0m\n\u001b[1;32m     24\u001b[0m         \u001b[0mresults\u001b[0m\u001b[0;34m[\u001b[0m\u001b[0;34m'mlp'\u001b[0m\u001b[0;34m]\u001b[0m\u001b[0;34m[\u001b[0m\u001b[0;34m'accuracy'\u001b[0m\u001b[0;34m]\u001b[0m\u001b[0;34m.\u001b[0m\u001b[0mappend\u001b[0m\u001b[0;34m(\u001b[0m\u001b[0maccuracy_score\u001b[0m\u001b[0;34m(\u001b[0m\u001b[0my_test\u001b[0m\u001b[0;34m,\u001b[0m \u001b[0mmlp_pred\u001b[0m\u001b[0;34m)\u001b[0m\u001b[0;34m)\u001b[0m\u001b[0;34m\u001b[0m\u001b[0;34m\u001b[0m\u001b[0m\n",
            "\u001b[0;32m/usr/local/lib/python3.10/dist-packages/sklearn/pipeline.py\u001b[0m in \u001b[0;36mpredict\u001b[0;34m(self, X, **params)\u001b[0m\n\u001b[1;32m    598\u001b[0m         \u001b[0;32mif\u001b[0m \u001b[0;32mnot\u001b[0m \u001b[0m_routing_enabled\u001b[0m\u001b[0;34m(\u001b[0m\u001b[0;34m)\u001b[0m\u001b[0;34m:\u001b[0m\u001b[0;34m\u001b[0m\u001b[0;34m\u001b[0m\u001b[0m\n\u001b[1;32m    599\u001b[0m             \u001b[0;32mfor\u001b[0m \u001b[0m_\u001b[0m\u001b[0;34m,\u001b[0m \u001b[0mname\u001b[0m\u001b[0;34m,\u001b[0m \u001b[0mtransform\u001b[0m \u001b[0;32min\u001b[0m \u001b[0mself\u001b[0m\u001b[0;34m.\u001b[0m\u001b[0m_iter\u001b[0m\u001b[0;34m(\u001b[0m\u001b[0mwith_final\u001b[0m\u001b[0;34m=\u001b[0m\u001b[0;32mFalse\u001b[0m\u001b[0;34m)\u001b[0m\u001b[0;34m:\u001b[0m\u001b[0;34m\u001b[0m\u001b[0;34m\u001b[0m\u001b[0m\n\u001b[0;32m--> 600\u001b[0;31m                 \u001b[0mXt\u001b[0m \u001b[0;34m=\u001b[0m \u001b[0mtransform\u001b[0m\u001b[0;34m.\u001b[0m\u001b[0mtransform\u001b[0m\u001b[0;34m(\u001b[0m\u001b[0mXt\u001b[0m\u001b[0;34m)\u001b[0m\u001b[0;34m\u001b[0m\u001b[0;34m\u001b[0m\u001b[0m\n\u001b[0m\u001b[1;32m    601\u001b[0m             \u001b[0;32mreturn\u001b[0m \u001b[0mself\u001b[0m\u001b[0;34m.\u001b[0m\u001b[0msteps\u001b[0m\u001b[0;34m[\u001b[0m\u001b[0;34m-\u001b[0m\u001b[0;36m1\u001b[0m\u001b[0;34m]\u001b[0m\u001b[0;34m[\u001b[0m\u001b[0;36m1\u001b[0m\u001b[0;34m]\u001b[0m\u001b[0;34m.\u001b[0m\u001b[0mpredict\u001b[0m\u001b[0;34m(\u001b[0m\u001b[0mXt\u001b[0m\u001b[0;34m,\u001b[0m \u001b[0;34m**\u001b[0m\u001b[0mparams\u001b[0m\u001b[0;34m)\u001b[0m\u001b[0;34m\u001b[0m\u001b[0;34m\u001b[0m\u001b[0m\n\u001b[1;32m    602\u001b[0m \u001b[0;34m\u001b[0m\u001b[0m\n",
            "\u001b[0;32m/usr/local/lib/python3.10/dist-packages/sklearn/utils/_set_output.py\u001b[0m in \u001b[0;36mwrapped\u001b[0;34m(self, X, *args, **kwargs)\u001b[0m\n\u001b[1;32m    314\u001b[0m     \u001b[0;34m@\u001b[0m\u001b[0mwraps\u001b[0m\u001b[0;34m(\u001b[0m\u001b[0mf\u001b[0m\u001b[0;34m)\u001b[0m\u001b[0;34m\u001b[0m\u001b[0;34m\u001b[0m\u001b[0m\n\u001b[1;32m    315\u001b[0m     \u001b[0;32mdef\u001b[0m \u001b[0mwrapped\u001b[0m\u001b[0;34m(\u001b[0m\u001b[0mself\u001b[0m\u001b[0;34m,\u001b[0m \u001b[0mX\u001b[0m\u001b[0;34m,\u001b[0m \u001b[0;34m*\u001b[0m\u001b[0margs\u001b[0m\u001b[0;34m,\u001b[0m \u001b[0;34m**\u001b[0m\u001b[0mkwargs\u001b[0m\u001b[0;34m)\u001b[0m\u001b[0;34m:\u001b[0m\u001b[0;34m\u001b[0m\u001b[0;34m\u001b[0m\u001b[0m\n\u001b[0;32m--> 316\u001b[0;31m         \u001b[0mdata_to_wrap\u001b[0m \u001b[0;34m=\u001b[0m \u001b[0mf\u001b[0m\u001b[0;34m(\u001b[0m\u001b[0mself\u001b[0m\u001b[0;34m,\u001b[0m \u001b[0mX\u001b[0m\u001b[0;34m,\u001b[0m \u001b[0;34m*\u001b[0m\u001b[0margs\u001b[0m\u001b[0;34m,\u001b[0m \u001b[0;34m**\u001b[0m\u001b[0mkwargs\u001b[0m\u001b[0;34m)\u001b[0m\u001b[0;34m\u001b[0m\u001b[0;34m\u001b[0m\u001b[0m\n\u001b[0m\u001b[1;32m    317\u001b[0m         \u001b[0;32mif\u001b[0m \u001b[0misinstance\u001b[0m\u001b[0;34m(\u001b[0m\u001b[0mdata_to_wrap\u001b[0m\u001b[0;34m,\u001b[0m \u001b[0mtuple\u001b[0m\u001b[0;34m)\u001b[0m\u001b[0;34m:\u001b[0m\u001b[0;34m\u001b[0m\u001b[0;34m\u001b[0m\u001b[0m\n\u001b[1;32m    318\u001b[0m             \u001b[0;31m# only wrap the first output for cross decomposition\u001b[0m\u001b[0;34m\u001b[0m\u001b[0;34m\u001b[0m\u001b[0m\n",
            "\u001b[0;32m<ipython-input-78-f3a43657604a>\u001b[0m in \u001b[0;36mtransform\u001b[0;34m(self, X, y)\u001b[0m\n\u001b[1;32m     26\u001b[0m             \u001b[0;31m# stopword removal\u001b[0m\u001b[0;34m\u001b[0m\u001b[0;34m\u001b[0m\u001b[0m\n\u001b[1;32m     27\u001b[0m             \u001b[0;31m# remove common english words that don't carry much meaning\u001b[0m\u001b[0;34m\u001b[0m\u001b[0;34m\u001b[0m\u001b[0m\n\u001b[0;32m---> 28\u001b[0;31m             \u001b[0mstopped\u001b[0m \u001b[0;34m=\u001b[0m \u001b[0;34m[\u001b[0m\u001b[0mtoken\u001b[0m \u001b[0;32mfor\u001b[0m \u001b[0mtoken\u001b[0m \u001b[0;32min\u001b[0m \u001b[0mnormalized\u001b[0m \u001b[0;32mif\u001b[0m \u001b[0mtoken\u001b[0m \u001b[0;32mnot\u001b[0m \u001b[0;32min\u001b[0m \u001b[0mstopwords\u001b[0m\u001b[0;34m.\u001b[0m\u001b[0mwords\u001b[0m\u001b[0;34m(\u001b[0m\u001b[0;34m'english'\u001b[0m\u001b[0;34m)\u001b[0m\u001b[0;34m]\u001b[0m\u001b[0;34m\u001b[0m\u001b[0;34m\u001b[0m\u001b[0m\n\u001b[0m\u001b[1;32m     29\u001b[0m \u001b[0;34m\u001b[0m\u001b[0m\n\u001b[1;32m     30\u001b[0m             \u001b[0;31m# stemming\u001b[0m\u001b[0;34m\u001b[0m\u001b[0;34m\u001b[0m\u001b[0m\n",
            "\u001b[0;32m<ipython-input-78-f3a43657604a>\u001b[0m in \u001b[0;36m<listcomp>\u001b[0;34m(.0)\u001b[0m\n\u001b[1;32m     26\u001b[0m             \u001b[0;31m# stopword removal\u001b[0m\u001b[0;34m\u001b[0m\u001b[0;34m\u001b[0m\u001b[0m\n\u001b[1;32m     27\u001b[0m             \u001b[0;31m# remove common english words that don't carry much meaning\u001b[0m\u001b[0;34m\u001b[0m\u001b[0;34m\u001b[0m\u001b[0m\n\u001b[0;32m---> 28\u001b[0;31m             \u001b[0mstopped\u001b[0m \u001b[0;34m=\u001b[0m \u001b[0;34m[\u001b[0m\u001b[0mtoken\u001b[0m \u001b[0;32mfor\u001b[0m \u001b[0mtoken\u001b[0m \u001b[0;32min\u001b[0m \u001b[0mnormalized\u001b[0m \u001b[0;32mif\u001b[0m \u001b[0mtoken\u001b[0m \u001b[0;32mnot\u001b[0m \u001b[0;32min\u001b[0m \u001b[0mstopwords\u001b[0m\u001b[0;34m.\u001b[0m\u001b[0mwords\u001b[0m\u001b[0;34m(\u001b[0m\u001b[0;34m'english'\u001b[0m\u001b[0;34m)\u001b[0m\u001b[0;34m]\u001b[0m\u001b[0;34m\u001b[0m\u001b[0;34m\u001b[0m\u001b[0m\n\u001b[0m\u001b[1;32m     29\u001b[0m \u001b[0;34m\u001b[0m\u001b[0m\n\u001b[1;32m     30\u001b[0m             \u001b[0;31m# stemming\u001b[0m\u001b[0;34m\u001b[0m\u001b[0;34m\u001b[0m\u001b[0m\n",
            "\u001b[0;32m/usr/local/lib/python3.10/dist-packages/nltk/corpus/reader/wordlist.py\u001b[0m in \u001b[0;36mwords\u001b[0;34m(self, fileids, ignore_lines_startswith)\u001b[0m\n\u001b[1;32m     17\u001b[0m \u001b[0;34m\u001b[0m\u001b[0m\n\u001b[1;32m     18\u001b[0m     \u001b[0;32mdef\u001b[0m \u001b[0mwords\u001b[0m\u001b[0;34m(\u001b[0m\u001b[0mself\u001b[0m\u001b[0;34m,\u001b[0m \u001b[0mfileids\u001b[0m\u001b[0;34m=\u001b[0m\u001b[0;32mNone\u001b[0m\u001b[0;34m,\u001b[0m \u001b[0mignore_lines_startswith\u001b[0m\u001b[0;34m=\u001b[0m\u001b[0;34m\"\\n\"\u001b[0m\u001b[0;34m)\u001b[0m\u001b[0;34m:\u001b[0m\u001b[0;34m\u001b[0m\u001b[0;34m\u001b[0m\u001b[0m\n\u001b[0;32m---> 19\u001b[0;31m         return [\n\u001b[0m\u001b[1;32m     20\u001b[0m             \u001b[0mline\u001b[0m\u001b[0;34m\u001b[0m\u001b[0;34m\u001b[0m\u001b[0m\n\u001b[1;32m     21\u001b[0m             \u001b[0;32mfor\u001b[0m \u001b[0mline\u001b[0m \u001b[0;32min\u001b[0m \u001b[0mline_tokenize\u001b[0m\u001b[0;34m(\u001b[0m\u001b[0mself\u001b[0m\u001b[0;34m.\u001b[0m\u001b[0mraw\u001b[0m\u001b[0;34m(\u001b[0m\u001b[0mfileids\u001b[0m\u001b[0;34m)\u001b[0m\u001b[0;34m)\u001b[0m\u001b[0;34m\u001b[0m\u001b[0;34m\u001b[0m\u001b[0m\n",
            "\u001b[0;32m/usr/local/lib/python3.10/dist-packages/nltk/corpus/reader/wordlist.py\u001b[0m in \u001b[0;36m<listcomp>\u001b[0;34m(.0)\u001b[0m\n\u001b[1;32m     20\u001b[0m             \u001b[0mline\u001b[0m\u001b[0;34m\u001b[0m\u001b[0;34m\u001b[0m\u001b[0m\n\u001b[1;32m     21\u001b[0m             \u001b[0;32mfor\u001b[0m \u001b[0mline\u001b[0m \u001b[0;32min\u001b[0m \u001b[0mline_tokenize\u001b[0m\u001b[0;34m(\u001b[0m\u001b[0mself\u001b[0m\u001b[0;34m.\u001b[0m\u001b[0mraw\u001b[0m\u001b[0;34m(\u001b[0m\u001b[0mfileids\u001b[0m\u001b[0;34m)\u001b[0m\u001b[0;34m)\u001b[0m\u001b[0;34m\u001b[0m\u001b[0;34m\u001b[0m\u001b[0m\n\u001b[0;32m---> 22\u001b[0;31m             \u001b[0;32mif\u001b[0m \u001b[0;32mnot\u001b[0m \u001b[0mline\u001b[0m\u001b[0;34m.\u001b[0m\u001b[0mstartswith\u001b[0m\u001b[0;34m(\u001b[0m\u001b[0mignore_lines_startswith\u001b[0m\u001b[0;34m)\u001b[0m\u001b[0;34m\u001b[0m\u001b[0;34m\u001b[0m\u001b[0m\n\u001b[0m\u001b[1;32m     23\u001b[0m         ]\n\u001b[1;32m     24\u001b[0m \u001b[0;34m\u001b[0m\u001b[0m\n",
            "\u001b[0;31mKeyboardInterrupt\u001b[0m: "
          ]
        }
      ]
    },
    {
      "cell_type": "markdown",
      "source": [
        "# **Evaluation**\n",
        "\n",
        "From experimental results comparing TF-IDF + MLP and LSTM approaches for Amazon review classification, the LSTM model performed better with 40.0% average accuracy compared to MLP's 35.3%.\n",
        "Looking at the fold-by-fold results, LSTM showed more variance (±0.037) than MLP (±0.017). I think this happened because my LSTM training was limited to just 5 epochs due to computational constraints in Google Colab (as well as reduced data sample size). Despite this limitation, LSTM consistently outperformed MLP, reaching 44.8% accuracy in its best fold.\n",
        "Both models struggled with the 5-class prediction task. The balanced dataset (1000 reviews per rating) helped avoid bias but made the task harder since real-world reviews tend to be skewed toward positive ratings.\n",
        "\n",
        "Solutions that could improve the results:\n",
        "- Increasing LSTM epochs\n",
        "- Using larger vocabulary (currently limited to 5000 words)\n",
        "- Implementing attention mechanisms\n",
        "- Testing binary classification (positive/negative) first"
      ],
      "metadata": {
        "id": "Mdq37RQ1hzNe"
      }
    }
  ]
}